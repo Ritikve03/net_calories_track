{
 "cells": [
  {
   "cell_type": "markdown",
   "id": "2589c136-b2ad-4894-9da5-48a1c176fbcc",
   "metadata": {},
   "source": [
    "#"
   ]
  },
  {
   "cell_type": "code",
   "execution_count": 2,
   "id": "83774a9e-d305-4d99-8efe-2adf6639ba67",
   "metadata": {},
   "outputs": [],
   "source": [
    "# 🧲 1. Import Libraries\n",
    "import pandas as pd\n",
    "import matplotlib.pyplot as plt\n",
    "import seaborn as sns\n",
    "from datetime import datetime\n",
    "import os\n"
   ]
  },
  {
   "cell_type": "code",
   "execution_count": 3,
   "id": "de0f9a53-555d-42d1-b0b7-c7149e817b3d",
   "metadata": {},
   "outputs": [],
   "source": [
    "# For reading Excel files\n",
    "import openpyxl"
   ]
  },
  {
   "cell_type": "code",
   "execution_count": 4,
   "id": "77880d94-c7b0-468b-8812-49f0f80ddfff",
   "metadata": {},
   "outputs": [
    {
     "name": "stdout",
     "output_type": "stream",
     "text": [
      "Food Data Sample:\n"
     ]
    },
    {
     "data": {
      "text/html": [
       "<div>\n",
       "<style scoped>\n",
       "    .dataframe tbody tr th:only-of-type {\n",
       "        vertical-align: middle;\n",
       "    }\n",
       "\n",
       "    .dataframe tbody tr th {\n",
       "        vertical-align: top;\n",
       "    }\n",
       "\n",
       "    .dataframe thead th {\n",
       "        text-align: right;\n",
       "    }\n",
       "</style>\n",
       "<table border=\"1\" class=\"dataframe\">\n",
       "  <thead>\n",
       "    <tr style=\"text-align: right;\">\n",
       "      <th></th>\n",
       "      <th>ID</th>\n",
       "      <th>name</th>\n",
       "      <th>Food Group</th>\n",
       "      <th>Calories</th>\n",
       "      <th>Fat (g)</th>\n",
       "      <th>Protein (g)</th>\n",
       "      <th>Carbohydrate (g)</th>\n",
       "      <th>Serving Description 1 (g)</th>\n",
       "    </tr>\n",
       "  </thead>\n",
       "  <tbody>\n",
       "    <tr>\n",
       "      <th>0</th>\n",
       "      <td>1</td>\n",
       "      <td>Apple</td>\n",
       "      <td>Fruits</td>\n",
       "      <td>52</td>\n",
       "      <td>0.2</td>\n",
       "      <td>0.3</td>\n",
       "      <td>14.0</td>\n",
       "      <td>100</td>\n",
       "    </tr>\n",
       "    <tr>\n",
       "      <th>1</th>\n",
       "      <td>2</td>\n",
       "      <td>Banana</td>\n",
       "      <td>Fruits</td>\n",
       "      <td>96</td>\n",
       "      <td>0.3</td>\n",
       "      <td>1.3</td>\n",
       "      <td>27.0</td>\n",
       "      <td>118</td>\n",
       "    </tr>\n",
       "    <tr>\n",
       "      <th>2</th>\n",
       "      <td>3</td>\n",
       "      <td>Chicken Breast</td>\n",
       "      <td>Meat</td>\n",
       "      <td>165</td>\n",
       "      <td>3.6</td>\n",
       "      <td>31.0</td>\n",
       "      <td>0.0</td>\n",
       "      <td>100</td>\n",
       "    </tr>\n",
       "    <tr>\n",
       "      <th>3</th>\n",
       "      <td>4</td>\n",
       "      <td>Broccoli</td>\n",
       "      <td>Vegetables</td>\n",
       "      <td>55</td>\n",
       "      <td>0.3</td>\n",
       "      <td>3.7</td>\n",
       "      <td>11.0</td>\n",
       "      <td>91</td>\n",
       "    </tr>\n",
       "    <tr>\n",
       "      <th>4</th>\n",
       "      <td>5</td>\n",
       "      <td>Rice</td>\n",
       "      <td>Grains</td>\n",
       "      <td>130</td>\n",
       "      <td>0.3</td>\n",
       "      <td>2.7</td>\n",
       "      <td>28.0</td>\n",
       "      <td>158</td>\n",
       "    </tr>\n",
       "  </tbody>\n",
       "</table>\n",
       "</div>"
      ],
      "text/plain": [
       "   ID            name  Food Group  Calories  Fat (g)  Protein (g)  \\\n",
       "0   1           Apple      Fruits        52      0.2          0.3   \n",
       "1   2          Banana      Fruits        96      0.3          1.3   \n",
       "2   3  Chicken Breast        Meat       165      3.6         31.0   \n",
       "3   4        Broccoli  Vegetables        55      0.3          3.7   \n",
       "4   5            Rice      Grains       130      0.3          2.7   \n",
       "\n",
       "   Carbohydrate (g)  Serving Description 1 (g)  \n",
       "0              14.0                        100  \n",
       "1              27.0                        118  \n",
       "2               0.0                        100  \n",
       "3              11.0                         91  \n",
       "4              28.0                        158  "
      ]
     },
     "metadata": {},
     "output_type": "display_data"
    }
   ],
   "source": [
    "# 📂 2. Load Dataset Files (Food)\n",
    "food_df = pd.read_excel(\"C:\\\\Users\\\\x3rit\\\\Desktop\\\\assignment\\\\data-excels-for-db\\\\food-calories.xlsx\")\n",
    "\n",
    "\n",
    "print(\"Food Data Sample:\")\n",
    "display(food_df.head())\n",
    "\n",
    "\n"
   ]
  },
  {
   "cell_type": "code",
   "execution_count": 5,
   "id": "87ca4fca-8cac-4517-804b-1cd950a01b63",
   "metadata": {},
   "outputs": [
    {
     "data": {
      "text/plain": [
       "Index(['ID', 'name', 'Food Group', 'Calories', 'Fat (g)', 'Protein (g)',\n",
       "       'Carbohydrate (g)', 'Serving Description 1 (g)'],\n",
       "      dtype='object')"
      ]
     },
     "execution_count": 5,
     "metadata": {},
     "output_type": "execute_result"
    }
   ],
   "source": [
    "food_df.columns"
   ]
  },
  {
   "cell_type": "code",
   "execution_count": 6,
   "id": "7159c613-722f-4383-82bf-ec0d4455f6c1",
   "metadata": {},
   "outputs": [
    {
     "name": "stdout",
     "output_type": "stream",
     "text": [
      "Activity Data Sample:\n"
     ]
    },
    {
     "data": {
      "text/html": [
       "<div>\n",
       "<style scoped>\n",
       "    .dataframe tbody tr th:only-of-type {\n",
       "        vertical-align: middle;\n",
       "    }\n",
       "\n",
       "    .dataframe tbody tr th {\n",
       "        vertical-align: top;\n",
       "    }\n",
       "\n",
       "    .dataframe thead th {\n",
       "        text-align: right;\n",
       "    }\n",
       "</style>\n",
       "<table border=\"1\" class=\"dataframe\">\n",
       "  <thead>\n",
       "    <tr style=\"text-align: right;\">\n",
       "      <th></th>\n",
       "      <th>ACTIVITY</th>\n",
       "      <th>SPECIFIC MOTION</th>\n",
       "      <th>METs</th>\n",
       "    </tr>\n",
       "  </thead>\n",
       "  <tbody>\n",
       "    <tr>\n",
       "      <th>0</th>\n",
       "      <td>Walking</td>\n",
       "      <td>Strolling</td>\n",
       "      <td>2.0</td>\n",
       "    </tr>\n",
       "    <tr>\n",
       "      <th>1</th>\n",
       "      <td>Running</td>\n",
       "      <td>Jogging</td>\n",
       "      <td>7.0</td>\n",
       "    </tr>\n",
       "    <tr>\n",
       "      <th>2</th>\n",
       "      <td>Cycling</td>\n",
       "      <td>Leisure cycling</td>\n",
       "      <td>4.0</td>\n",
       "    </tr>\n",
       "    <tr>\n",
       "      <th>3</th>\n",
       "      <td>Swimming</td>\n",
       "      <td>Freestyle moderate</td>\n",
       "      <td>6.0</td>\n",
       "    </tr>\n",
       "    <tr>\n",
       "      <th>4</th>\n",
       "      <td>Yoga</td>\n",
       "      <td>Hatha yoga</td>\n",
       "      <td>2.5</td>\n",
       "    </tr>\n",
       "  </tbody>\n",
       "</table>\n",
       "</div>"
      ],
      "text/plain": [
       "   ACTIVITY     SPECIFIC MOTION  METs\n",
       "0   Walking           Strolling   2.0\n",
       "1   Running             Jogging   7.0\n",
       "2   Cycling     Leisure cycling   4.0\n",
       "3  Swimming  Freestyle moderate   6.0\n",
       "4      Yoga          Hatha yoga   2.5"
      ]
     },
     "metadata": {},
     "output_type": "display_data"
    }
   ],
   "source": [
    "# 📂 2. Load Dataset Files (Food and Activities)\n",
    "activity_df = pd.read_excel(\"C:\\\\Users\\\\x3rit\\\\Desktop\\\\assignment\\\\data-excels-for-db\\\\MET-values.xlsx\")\n",
    "print(\"Activity Data Sample:\")\n",
    "display(activity_df.head())"
   ]
  },
  {
   "cell_type": "code",
   "execution_count": 7,
   "id": "7e48b00e-bf44-45c7-ac28-5acfa6484d3f",
   "metadata": {},
   "outputs": [
    {
     "data": {
      "text/plain": [
       "Index(['ACTIVITY', 'SPECIFIC MOTION', 'METs'], dtype='object')"
      ]
     },
     "execution_count": 7,
     "metadata": {},
     "output_type": "execute_result"
    }
   ],
   "source": [
    "activity_df.columns"
   ]
  },
  {
   "cell_type": "code",
   "execution_count": 8,
   "id": "483a4a16-0eef-42a6-b08c-21a1ed46ebd0",
   "metadata": {},
   "outputs": [
    {
     "name": "stdout",
     "output_type": "stream",
     "text": [
      "\n",
      "Enter User Information:\n"
     ]
    },
    {
     "name": "stdin",
     "output_type": "stream",
     "text": [
      "Name:  Damini\n",
      "Age (in years):  30\n",
      "Sex (male/female):  female\n",
      "Weight (in kg):  69\n",
      "Height (in cm):  160\n"
     ]
    }
   ],
   "source": [
    "# 👤 3. Input User Information Dynamically\n",
    "print(\"\\nEnter User Information:\")\n",
    "name = input(\"Name: \")\n",
    "age = int(input(\"Age (in years): \"))\n",
    "sex = input(\"Sex (male/female): \")\n",
    "weight = float(input(\"Weight (in kg): \"))\n",
    "height = float(input(\"Height (in cm): \"))\n",
    "\n",
    "user = {\n",
    "    'name': name,\n",
    "    'age': age,\n",
    "    'sex': sex,\n",
    "    'weight': weight,\n",
    "    'height': height\n",
    "}\n",
    "\n",
    "user_df = pd.DataFrame([user])\n",
    "user_file = \"users.csv\"\n",
    "if os.path.exists(user_file):\n",
    "    existing_users = pd.read_csv(user_file)\n",
    "    updated_users = pd.concat([existing_users, user_df], ignore_index=True)\n",
    "    updated_users.to_csv(user_file, index=False)\n",
    "else:\n",
    "    user_df.to_csv(user_file, index=False)"
   ]
  },
  {
   "cell_type": "code",
   "execution_count": 9,
   "id": "e1e30ea5-12e6-488e-8394-087c5c73470d",
   "metadata": {},
   "outputs": [
    {
     "name": "stdout",
     "output_type": "stream",
     "text": [
      "Your BMI is: 26.95\n",
      "You are categorized as: Overweight\n"
     ]
    },
    {
     "name": "stderr",
     "output_type": "stream",
     "text": [
      "C:\\ProgramData\\anaconda3\\Lib\\site-packages\\seaborn\\_oldcore.py:1765: FutureWarning: unique with argument that is not not a Series, Index, ExtensionArray, or np.ndarray is deprecated and will raise in a future version.\n",
      "  order = pd.unique(vector)\n"
     ]
    },
    {
     "data": {
      "image/png": "[encoded data removed]",
      "text/plain": [
       "<Figure size 800x500 with 1 Axes>"
      ]
     },
     "metadata": {},
     "output_type": "display_data"
    }
   ],
   "source": [
    "# --- BMI Calculation and Visualization ---\n",
    "\n",
    "height_m = height / 100  # Convert height to meters\n",
    "bmi = weight / (height_m ** 2)\n",
    "bmi = round(bmi, 2)\n",
    "\n",
    "# Determine BMI category\n",
    "if bmi < 18.5:\n",
    "    category = 'Underweight'\n",
    "    color = 'skyblue'\n",
    "elif 18.5 <= bmi < 24.9:\n",
    "    category = 'Normal weight'\n",
    "    color = 'green'\n",
    "elif 25 <= bmi < 29.9:\n",
    "    category = 'Overweight'\n",
    "    color = 'orange'\n",
    "else:\n",
    "    category = 'Obese'\n",
    "    color = 'red'\n",
    "\n",
    "# Display BMI and category\n",
    "print(f\"Your BMI is: {bmi}\")\n",
    "print(f\"You are categorized as: {category}\")\n",
    "\n",
    "# Create a bar chart for BMI categories\n",
    "categories = ['Underweight', 'Normal weight', 'Overweight', 'Obese']\n",
    "colors = ['skyblue', 'green', 'orange', 'red']\n",
    "values = [18.4, 24.8, 29.8, 40]  # Upper bounds for each category\n",
    "\n",
    "# Highlight the user's category\n",
    "highlight = [color if cat == category else 'lightgrey' for cat in categories]\n",
    "\n",
    "plt.figure(figsize=(8, 5))\n",
    "sns.barplot(x=categories, y=values, palette=highlight)\n",
    "plt.axhline(bmi, color='black', linestyle='--', label=f'Your BMI: {bmi}')\n",
    "plt.title('BMI Categories')\n",
    "plt.ylabel('BMI Value')\n",
    "plt.legend()\n",
    "plt.tight_layout()\n",
    "plt.show()\n"
   ]
  },
  {
   "cell_type": "code",
   "execution_count": 10,
   "id": "60cfcbc8-bb6c-4d47-85db-aeb1e1f21fdb",
   "metadata": {},
   "outputs": [
    {
     "name": "stdout",
     "output_type": "stream",
     "text": [
      "\n",
      "BMR for Damini is 1470.64 calories/day\n"
     ]
    }
   ],
   "source": [
    "# 🔢 4. Calculate BMR\n",
    "def calculate_bmr(sex, weight, height, age):\n",
    "    if sex.lower() == 'male':\n",
    "        return 66.4730 + (13.7516 * weight) + (5.0033 * height) - (6.7550 * age)\n",
    "    else:\n",
    "        return 655.0955 + (9.5634 * weight) + (1.8496 * height) - (4.6756 * age)\n",
    "\n",
    "bmr = calculate_bmr(user['sex'], user['weight'], user['height'], user['age'])\n",
    "print(f\"\\nBMR for {user['name']} is {bmr:.2f} calories/day\")"
   ]
  },
  {
   "cell_type": "code",
   "execution_count": 11,
   "id": "3b09b854-3162-4243-adcb-89fd0dc640ac",
   "metadata": {},
   "outputs": [],
   "source": [
    "# ⚙️ 5. Activity Calories Calculation Function\n",
    "def calculate_activity_calories(met, weight, duration_min):\n",
    "    return met * weight * (duration_min / 60)\n"
   ]
  },
  {
   "cell_type": "code",
   "execution_count": 12,
   "id": "f1672b9c-516a-4bbe-86c0-593ef91657e3",
   "metadata": {},
   "outputs": [],
   "source": [
    "def log_day(date, food_entries, activity_entries):\n",
    "    total_calories_in = 0\n",
    "    total_calories_out = 0\n",
    "\n",
    "    log_rows = []\n",
    "\n",
    "    # Processing food entries\n",
    "    for entry in food_entries:\n",
    "        food_name, quantity, meal_time = entry\n",
    "        match = food_df[food_df['name'].str.lower() == food_name.lower()]\n",
    "        if not match.empty:\n",
    "            cal_per_serving = match['Calories'].values[0]\n",
    "            total = cal_per_serving * quantity\n",
    "            total_calories_in += total\n",
    "            log_rows.append([user['name'], date, food_name, quantity, meal_time, total, '', '', ''])\n",
    "\n",
    "    # Processing activity entries\n",
    "    for entry in activity_entries:\n",
    "        activity_name, duration_min = entry\n",
    "        match = activity_df[activity_df['ACTIVITY'].str.lower().str.strip() == activity_name.lower().strip()]\n",
    "        if not match.empty:\n",
    "            met = match['METs'].values[0]\n",
    "            calories_burned = calculate_activity_calories(met, user['weight'], duration_min)\n",
    "            total_calories_out += calories_burned\n",
    "            log_rows.append([user['name'], date, '', '', '', '', activity_name, duration_min, calories_burned])\n",
    "        else:\n",
    "            print(f\"⚠️ Activity '{activity_name}' not found in database.\")\n",
    "\n",
    "    # Calculate net calories\n",
    "    net_calories = total_calories_in - bmr - total_calories_out\n",
    "    return log_rows, total_calories_in, total_calories_out, net_calories"
   ]
  },
  {
   "cell_type": "code",
   "execution_count": 13,
   "id": "0736ccfe-d6c7-42bd-863b-564240d57663",
   "metadata": {},
   "outputs": [],
   "source": [
    "# ✏️ 7. Dynamic User Input for Daily Log"
   ]
  },
  {
   "cell_type": "code",
   "execution_count": 14,
   "id": "db9109f9-d41a-41ad-8a98-abfe05909bf3",
   "metadata": {},
   "outputs": [
    {
     "name": "stdout",
     "output_type": "stream",
     "text": [
      "\n",
      "Enter Food Entries:\n"
     ]
    },
    {
     "name": "stdin",
     "output_type": "stream",
     "text": [
      "Food Name (or type 'done' to finish):  Beef 81\n",
      "Quantity (number of servings):  2\n",
      "Meal Time (Breakfast/Lunch/Dinner/Snack):  Breakfast\n",
      "Food Name (or type 'done' to finish):  done\n"
     ]
    }
   ],
   "source": [
    "# Food Entries\n",
    "print(\"\\nEnter Food Entries:\")\n",
    "food_entries = []\n",
    "while True:\n",
    "    food_name = input(\"Food Name (or type 'done' to finish): \")\n",
    "    if food_name.lower() == 'done':\n",
    "        break\n",
    "    quantity = float(input(\"Quantity (number of servings): \"))\n",
    "    meal_time = input(\"Meal Time (Breakfast/Lunch/Dinner/Snack): \")\n",
    "    food_entries.append((food_name, quantity, meal_time))\n"
   ]
  },
  {
   "cell_type": "code",
   "execution_count": null,
   "id": "8121b20d-3c21-44a8-ae6f-13abe09ff28a",
   "metadata": {},
   "outputs": [
    {
     "name": "stdout",
     "output_type": "stream",
     "text": [
      "\n",
      "Enter Activity Entries:\n"
     ]
    }
   ],
   "source": [
    "# Activity Entries\n",
    "print(\"\\nEnter Activity Entries:\")\n",
    "activity_entries = []\n",
    "while True:\n",
    "    activity_name = input(\"Activity Name (or type 'done' to finish): \")\n",
    "    if activity_name.lower() == 'done':\n",
    "        break\n",
    "    duration_min = float(input(\"Duration in minutes: \"))\n",
    "    activity_entries.append((activity_name, duration_min))"
   ]
  },
  {
   "cell_type": "code",
   "execution_count": null,
   "id": "26359543-beaa-4eaa-aaa9-e5c66444932f",
   "metadata": {},
   "outputs": [],
   "source": [
    "# Log the Day\n",
    "today = datetime.today().date()\n",
    "log_rows, cals_in, cals_out, net = log_day(today, food_entries, activity_entries)\n",
    "daily_log = pd.DataFrame(log_rows, columns=[\"User\", \"Date\", \"Food Item\", \"Quantity\", \"Meal Time\", \"Calories In\", \"Activity\", \"Duration (min)\", \"Calories Out\"])\n",
    "\n",
    "print(\"\\n📊 Daily Log\")\n",
    "display(daily_log)\n",
    "\n",
    "print(f\"\\nTotal Calories In: {cals_in:.2f}\")\n",
    "print(f\"Total Calories Out (Activities): {cals_out:.2f}\")\n",
    "print(f\"Net Calories (In - BMR - Out): {net:.2f}\")"
   ]
  },
  {
   "cell_type": "code",
   "execution_count": null,
   "id": "33db8d2c-d41b-4775-9fa3-5eaf5f4ede03",
   "metadata": {},
   "outputs": [],
   "source": [
    "# Save Daily Log\n",
    "log_file = \"daily_logs.csv\"\n",
    "if os.path.exists(log_file):\n",
    "    existing_log = pd.read_csv(log_file)\n",
    "    updated_log = pd.concat([existing_log, daily_log], ignore_index=True)\n",
    "    updated_log.to_csv(log_file, index=False)\n",
    "else:\n",
    "    daily_log.to_csv(log_file, index=False)\n",
    "print(\"Daily log saved to 'daily_logs.csv'.\")\n"
   ]
  },
  {
   "cell_type": "code",
   "execution_count": null,
   "id": "ad6d6be2-4d46-439e-b913-0c5d8688d833",
   "metadata": {},
   "outputs": [],
   "source": [
    "# 📈 8. Visualize Calories Summary\n",
    "\n",
    "summary_df = pd.DataFrame({\n",
    "    'Metric': ['Calories In', 'BMR', 'Calories Out', 'Net Calories'],\n",
    "    'Value': [cals_in, bmr, cals_out, net]\n",
    "})\n",
    "\n",
    "sns.barplot(data=summary_df, x='Metric', y='Value', palette='coolwarm')\n",
    "plt.title('Calorie Summary for the Day')\n",
    "plt.ylabel('Calories')\n",
    "plt.show()"
   ]
  },
  {
   "cell_type": "code",
   "execution_count": null,
   "id": "3e197198-e1ce-4d20-862b-e8aac77b1800",
   "metadata": {},
   "outputs": [],
   "source": [
    "# 📅 Read all logs (multi-day tracking)\n",
    "log_file = \"daily_logs.csv\"\n",
    "if os.path.exists(log_file):\n",
    "    all_logs = pd.read_csv(log_file)\n",
    "\n",
    "    # Convert 'Date' column to datetime\n",
    "    all_logs['Date'] = pd.to_datetime(all_logs['Date'])\n",
    "\n",
    "    # 🔥 Summarize Calories In, Calories Out, and Net per day\n",
    "    daily_summary = all_logs.groupby('Date').agg({\n",
    "        'Calories In': 'sum',\n",
    "        'Calories Out': 'sum'\n",
    "    }).reset_index()\n",
    "\n",
    "    # Calculate Net Calories\n",
    "    daily_summary['Net Calories'] = daily_summary['Calories In'] - bmr - daily_summary['Calories Out']\n",
    "\n",
    "    print(\"\\n🗓️ Multi-Day Summary:\")\n",
    "    display(daily_summary)\n",
    "else:\n",
    "    print(\"No previous logs found.\")\n"
   ]
  },
  {
   "cell_type": "code",
   "execution_count": null,
   "id": "bc65a670-d866-464d-a0f6-93000268fdfb",
   "metadata": {},
   "outputs": [],
   "source": [
    "# 📈 Visualize Calories Over Days\n",
    "plt.figure(figsize=(12, 6))\n",
    "plt.plot(daily_summary['Date'], daily_summary['Calories In'], label='Calories In', marker='o')\n",
    "plt.plot(daily_summary['Date'], daily_summary['Calories Out'], label='Calories Out', marker='o')\n",
    "plt.plot(daily_summary['Date'], daily_summary['Net Calories'], label='Net Calories', marker='o')\n",
    "\n",
    "plt.title('Calories Trend Over Time')\n",
    "plt.xlabel('Date')\n",
    "plt.ylabel('Calories')\n",
    "plt.legend()\n",
    "plt.grid(True)\n",
    "plt.xticks(rotation=45)\n",
    "plt.tight_layout()\n",
    "plt.show()\n"
   ]
  },
  {
   "cell_type": "code",
   "execution_count": null,
   "id": "1244b2d2-7c78-4262-8773-3c3bd195e73f",
   "metadata": {},
   "outputs": [],
   "source": []
  }
 ],
 "metadata": {
  "kernelspec": {
   "display_name": "Python [conda env:base] *",
   "language": "python",
   "name": "conda-base-py"
  },
  "language_info": {
   "codemirror_mode": {
    "name": "ipython",
    "version": 3
   },
   "file_extension": ".py",
   "mimetype": "text/x-python",
   "name": "python",
   "nbconvert_exporter": "python",
   "pygments_lexer": "ipython3",
   "version": "3.11.7"
  }
 },
 "nbformat": 4,
 "nbformat_minor": 5
}
