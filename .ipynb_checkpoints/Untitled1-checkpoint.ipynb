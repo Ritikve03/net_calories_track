{
 "cells": [
  {
   "cell_type": "code",
   "execution_count": 1,
   "id": "83774a9e-d305-4d99-8efe-2adf6639ba67",
   "metadata": {},
   "outputs": [],
   "source": [
    "# 🧲 1. Import Libraries\n",
    "import pandas as pd\n",
    "import matplotlib.pyplot as plt\n",
    "import seaborn as sns\n",
    "from datetime import datetime\n",
    "import os\n"
   ]
  },
  {
   "cell_type": "code",
   "execution_count": 3,
   "id": "de0f9a53-555d-42d1-b0b7-c7149e817b3d",
   "metadata": {},
   "outputs": [],
   "source": [
    "# For reading Excel files\n",
    "import openpyxl"
   ]
  },
  {
   "cell_type": "code",
   "execution_count": 5,
   "id": "77880d94-c7b0-468b-8812-49f0f80ddfff",
   "metadata": {},
   "outputs": [
    {
     "name": "stdout",
     "output_type": "stream",
     "text": [
      "Food Data Sample:\n"
     ]
    },
    {
     "data": {
      "text/html": [
       "<div>\n",
       "<style scoped>\n",
       "    .dataframe tbody tr th:only-of-type {\n",
       "        vertical-align: middle;\n",
       "    }\n",
       "\n",
       "    .dataframe tbody tr th {\n",
       "        vertical-align: top;\n",
       "    }\n",
       "\n",
       "    .dataframe thead th {\n",
       "        text-align: right;\n",
       "    }\n",
       "</style>\n",
       "<table border=\"1\" class=\"dataframe\">\n",
       "  <thead>\n",
       "    <tr style=\"text-align: right;\">\n",
       "      <th></th>\n",
       "      <th>ID</th>\n",
       "      <th>name</th>\n",
       "      <th>Food Group</th>\n",
       "      <th>Calories</th>\n",
       "      <th>Fat (g)</th>\n",
       "      <th>Protein (g)</th>\n",
       "      <th>Carbohydrate (g)</th>\n",
       "      <th>Serving Description 1 (g)</th>\n",
       "    </tr>\n",
       "  </thead>\n",
       "  <tbody>\n",
       "    <tr>\n",
       "      <th>0</th>\n",
       "      <td>167512</td>\n",
       "      <td>Pillsbury Golden Layer Buttermilk Biscuits Art...</td>\n",
       "      <td>Baked Foods</td>\n",
       "      <td>307.0</td>\n",
       "      <td>13.24</td>\n",
       "      <td>5.88</td>\n",
       "      <td>41.18</td>\n",
       "      <td>1 serving</td>\n",
       "    </tr>\n",
       "    <tr>\n",
       "      <th>1</th>\n",
       "      <td>167513</td>\n",
       "      <td>Pillsbury Cinnamon Rolls With Icing Refrigerat...</td>\n",
       "      <td>Baked Foods</td>\n",
       "      <td>330.0</td>\n",
       "      <td>11.27</td>\n",
       "      <td>4.34</td>\n",
       "      <td>53.42</td>\n",
       "      <td>1 serving 1 roll with icing</td>\n",
       "    </tr>\n",
       "    <tr>\n",
       "      <th>2</th>\n",
       "      <td>167514</td>\n",
       "      <td>Kraft Foods Shake N Bake Original Recipe Coati...</td>\n",
       "      <td>Baked Foods</td>\n",
       "      <td>377.0</td>\n",
       "      <td>3.70</td>\n",
       "      <td>6.10</td>\n",
       "      <td>79.80</td>\n",
       "      <td>1 serving</td>\n",
       "    </tr>\n",
       "    <tr>\n",
       "      <th>3</th>\n",
       "      <td>167515</td>\n",
       "      <td>George Weston Bakeries Thomas English Muffins</td>\n",
       "      <td>Baked Foods</td>\n",
       "      <td>232.0</td>\n",
       "      <td>1.80</td>\n",
       "      <td>8.00</td>\n",
       "      <td>46.00</td>\n",
       "      <td>1 serving</td>\n",
       "    </tr>\n",
       "    <tr>\n",
       "      <th>4</th>\n",
       "      <td>167516</td>\n",
       "      <td>Waffles Buttermilk Frozen Ready-To-Heat</td>\n",
       "      <td>Baked Foods</td>\n",
       "      <td>273.0</td>\n",
       "      <td>9.22</td>\n",
       "      <td>6.58</td>\n",
       "      <td>41.05</td>\n",
       "      <td>1 waffle, square</td>\n",
       "    </tr>\n",
       "  </tbody>\n",
       "</table>\n",
       "</div>"
      ],
      "text/plain": [
       "       ID                                               name   Food Group  \\\n",
       "0  167512  Pillsbury Golden Layer Buttermilk Biscuits Art...  Baked Foods   \n",
       "1  167513  Pillsbury Cinnamon Rolls With Icing Refrigerat...  Baked Foods   \n",
       "2  167514  Kraft Foods Shake N Bake Original Recipe Coati...  Baked Foods   \n",
       "3  167515      George Weston Bakeries Thomas English Muffins  Baked Foods   \n",
       "4  167516            Waffles Buttermilk Frozen Ready-To-Heat  Baked Foods   \n",
       "\n",
       "   Calories  Fat (g)  Protein (g)  Carbohydrate (g)  \\\n",
       "0     307.0    13.24         5.88             41.18   \n",
       "1     330.0    11.27         4.34             53.42   \n",
       "2     377.0     3.70         6.10             79.80   \n",
       "3     232.0     1.80         8.00             46.00   \n",
       "4     273.0     9.22         6.58             41.05   \n",
       "\n",
       "     Serving Description 1 (g)  \n",
       "0                    1 serving  \n",
       "1  1 serving 1 roll with icing  \n",
       "2                    1 serving  \n",
       "3                    1 serving  \n",
       "4             1 waffle, square  "
      ]
     },
     "metadata": {},
     "output_type": "display_data"
    }
   ],
   "source": [
    "# 📂 2. Load Dataset Files (Food)\n",
    "food_df = pd.read_excel(\"C:\\\\Users\\\\x3rit\\\\Desktop\\\\assignment\\\\data-excels-for-db\\\\food-calories.xlsx\")\n",
    "\n",
    "\n",
    "print(\"Food Data Sample:\")\n",
    "display(food_df.head())\n",
    "\n",
    "\n"
   ]
  },
  {
   "cell_type": "code",
   "execution_count": 7,
   "id": "87ca4fca-8cac-4517-804b-1cd950a01b63",
   "metadata": {},
   "outputs": [
    {
     "data": {
      "text/plain": [
       "Index(['ID', 'name', 'Food Group', 'Calories', 'Fat (g)', 'Protein (g)',\n",
       "       'Carbohydrate (g)', 'Serving Description 1 (g)'],\n",
       "      dtype='object')"
      ]
     },
     "execution_count": 7,
     "metadata": {},
     "output_type": "execute_result"
    }
   ],
   "source": [
    "food_df.columns"
   ]
  },
  {
   "cell_type": "code",
   "execution_count": 9,
   "id": "7159c613-722f-4383-82bf-ec0d4455f6c1",
   "metadata": {},
   "outputs": [
    {
     "name": "stdout",
     "output_type": "stream",
     "text": [
      "Activity Data Sample:\n"
     ]
    },
    {
     "data": {
      "text/html": [
       "<div>\n",
       "<style scoped>\n",
       "    .dataframe tbody tr th:only-of-type {\n",
       "        vertical-align: middle;\n",
       "    }\n",
       "\n",
       "    .dataframe tbody tr th {\n",
       "        vertical-align: top;\n",
       "    }\n",
       "\n",
       "    .dataframe thead th {\n",
       "        text-align: right;\n",
       "    }\n",
       "</style>\n",
       "<table border=\"1\" class=\"dataframe\">\n",
       "  <thead>\n",
       "    <tr style=\"text-align: right;\">\n",
       "      <th></th>\n",
       "      <th>ACTIVITY</th>\n",
       "      <th>SPECIFIC MOTION</th>\n",
       "      <th>METs</th>\n",
       "    </tr>\n",
       "  </thead>\n",
       "  <tbody>\n",
       "    <tr>\n",
       "      <th>0</th>\n",
       "      <td>bicycling</td>\n",
       "      <td>bicycling, mountain, uphill, vigorous</td>\n",
       "      <td>14.0</td>\n",
       "    </tr>\n",
       "    <tr>\n",
       "      <th>1</th>\n",
       "      <td>bicycling</td>\n",
       "      <td>bicycling, mountain, competitive, racing</td>\n",
       "      <td>16.0</td>\n",
       "    </tr>\n",
       "    <tr>\n",
       "      <th>2</th>\n",
       "      <td>bicycling</td>\n",
       "      <td>bicycling, BMX</td>\n",
       "      <td>8.5</td>\n",
       "    </tr>\n",
       "    <tr>\n",
       "      <th>3</th>\n",
       "      <td>bicycling</td>\n",
       "      <td>bicycling, mountain, general</td>\n",
       "      <td>8.5</td>\n",
       "    </tr>\n",
       "    <tr>\n",
       "      <th>4</th>\n",
       "      <td>bicycling</td>\n",
       "      <td>bicycling, &lt;10 mph, leisure, to work or for pl...</td>\n",
       "      <td>4.0</td>\n",
       "    </tr>\n",
       "  </tbody>\n",
       "</table>\n",
       "</div>"
      ],
      "text/plain": [
       "    ACTIVITY                                    SPECIFIC MOTION  METs\n",
       "0  bicycling              bicycling, mountain, uphill, vigorous  14.0\n",
       "1  bicycling           bicycling, mountain, competitive, racing  16.0\n",
       "2  bicycling                                     bicycling, BMX   8.5\n",
       "3  bicycling                       bicycling, mountain, general   8.5\n",
       "4  bicycling  bicycling, <10 mph, leisure, to work or for pl...   4.0"
      ]
     },
     "metadata": {},
     "output_type": "display_data"
    }
   ],
   "source": [
    "# 📂 2. Load Dataset Files (Food and Activities)\n",
    "activity_df = pd.read_excel(\"C:\\\\Users\\\\x3rit\\\\Desktop\\\\assignment\\\\data-excels-for-db\\\\MET-values.xlsx\")\n",
    "print(\"Activity Data Sample:\")\n",
    "display(activity_df.head())"
   ]
  },
  {
   "cell_type": "code",
   "execution_count": 27,
   "id": "7e48b00e-bf44-45c7-ac28-5acfa6484d3f",
   "metadata": {},
   "outputs": [
    {
     "data": {
      "text/plain": [
       "Index(['ACTIVITY', 'SPECIFIC MOTION', 'METs'], dtype='object')"
      ]
     },
     "execution_count": 27,
     "metadata": {},
     "output_type": "execute_result"
    }
   ],
   "source": [
    "activity_df.columns"
   ]
  },
  {
   "cell_type": "code",
   "execution_count": 11,
   "id": "483a4a16-0eef-42a6-b08c-21a1ed46ebd0",
   "metadata": {},
   "outputs": [
    {
     "name": "stdout",
     "output_type": "stream",
     "text": [
      "\n",
      "Enter User Information:\n"
     ]
    },
    {
     "name": "stdin",
     "output_type": "stream",
     "text": [
      "Name:  Ritik\n",
      "Age (in years):  27\n",
      "Sex (male/female):  male\n",
      "Weight (in kg):  89\n",
      "Height (in cm):  178\n"
     ]
    }
   ],
   "source": [
    "# 👤 3. Input User Information Dynamically\n",
    "print(\"\\nEnter User Information:\")\n",
    "name = input(\"Name: \")\n",
    "age = int(input(\"Age (in years): \"))\n",
    "sex = input(\"Sex (male/female): \")\n",
    "weight = float(input(\"Weight (in kg): \"))\n",
    "height = float(input(\"Height (in cm): \"))\n",
    "\n",
    "user = {\n",
    "    'name': name,\n",
    "    'age': age,\n",
    "    'sex': sex,\n",
    "    'weight': weight,\n",
    "    'height': height\n",
    "}\n",
    "\n",
    "user_df = pd.DataFrame([user])\n",
    "user_file = \"users.csv\"\n",
    "if os.path.exists(user_file):\n",
    "    existing_users = pd.read_csv(user_file)\n",
    "    updated_users = pd.concat([existing_users, user_df], ignore_index=True)\n",
    "    updated_users.to_csv(user_file, index=False)\n",
    "else:\n",
    "    user_df.to_csv(user_file, index=False)"
   ]
  },
  {
   "cell_type": "code",
   "execution_count": 13,
   "id": "60cfcbc8-bb6c-4d47-85db-aeb1e1f21fdb",
   "metadata": {},
   "outputs": [
    {
     "name": "stdout",
     "output_type": "stream",
     "text": [
      "\n",
      "BMR for Ritik is 1998.57 calories/day\n"
     ]
    }
   ],
   "source": [
    "# 🔢 4. Calculate BMR\n",
    "def calculate_bmr(sex, weight, height, age):\n",
    "    if sex.lower() == 'male':\n",
    "        return 66.4730 + (13.7516 * weight) + (5.0033 * height) - (6.7550 * age)\n",
    "    else:\n",
    "        return 655.0955 + (9.5634 * weight) + (1.8496 * height) - (4.6756 * age)\n",
    "\n",
    "bmr = calculate_bmr(user['sex'], user['weight'], user['height'], user['age'])\n",
    "print(f\"\\nBMR for {user['name']} is {bmr:.2f} calories/day\")"
   ]
  },
  {
   "cell_type": "code",
   "execution_count": 15,
   "id": "3b09b854-3162-4243-adcb-89fd0dc640ac",
   "metadata": {},
   "outputs": [],
   "source": [
    "# ⚙️ 5. Activity Calories Calculation Function\n",
    "def calculate_activity_calories(met, weight, duration_min):\n",
    "    return met * weight * (duration_min / 60)\n"
   ]
  },
  {
   "cell_type": "code",
   "execution_count": 39,
   "id": "f1672b9c-516a-4bbe-86c0-593ef91657e3",
   "metadata": {},
   "outputs": [],
   "source": [
    "# 🗓️ 6. Create a Daily Log Entry Function\n",
    "def log_day(date, food_entries, activity_entries):\n",
    "    total_calories_in = 0\n",
    "    total_calories_out = 0\n",
    "\n",
    "    log_rows = []\n",
    "\n",
    "    for entry in food_entries:\n",
    "        food_name, quantity, meal_time = entry\n",
    "        match = food_df[food_df['name'].str.lower() == food_name.lower()]\n",
    "        if not match.empty:\n",
    "            cal_per_serving = match['Calories'].values[0]\n",
    "            total = cal_per_serving * quantity\n",
    "            total_calories_in += total\n",
    "            log_rows.append([user['name'], date, food_name, quantity, meal_time, total, '', '', ''])\n",
    "\n",
    "    for entry in activity_entries:\n",
    "        activity_name, duration_min = entry\n",
    "        match = activity_df[activity_df['ACTIVITY'].str.lower() == activity_name.lower()]\n",
    "        if not match.empty:\n",
    "            met = match['METs'].values[0]\n",
    "\n",
    "            calories_burned = calculate_activity_calories(met, user['weight'], duration_min)\n",
    "            total_calories_out += calories_burned\n",
    "            log_rows.append([user['name'], date, '', '', '', '', activity_name, duration_min, calories_burned])\n",
    "\n",
    "    net_calories = total_calories_in - bmr - total_calories_out\n",
    "    return log_rows, total_calories_in, total_calories_out, net_calories"
   ]
  },
  {
   "cell_type": "code",
   "execution_count": null,
   "id": "0736ccfe-d6c7-42bd-863b-564240d57663",
   "metadata": {},
   "outputs": [],
   "source": [
    "# ✏️ 7. Dynamic User Input for Daily Log"
   ]
  },
  {
   "cell_type": "code",
   "execution_count": 19,
   "id": "db9109f9-d41a-41ad-8a98-abfe05909bf3",
   "metadata": {},
   "outputs": [
    {
     "name": "stdout",
     "output_type": "stream",
     "text": [
      "\n",
      "Enter Food Entries:\n"
     ]
    },
    {
     "name": "stdin",
     "output_type": "stream",
     "text": [
      "Food Name (or type 'done' to finish):  Dutch Apple Pie\n",
      "Quantity (number of servings):  2\n",
      "Meal Time (Breakfast/Lunch/Dinner/Snack):  Snack\n",
      "Food Name (or type 'done' to finish):  done\n"
     ]
    }
   ],
   "source": [
    "# Food Entries\n",
    "print(\"\\nEnter Food Entries:\")\n",
    "food_entries = []\n",
    "while True:\n",
    "    food_name = input(\"Food Name (or type 'done' to finish): \")\n",
    "    if food_name.lower() == 'done':\n",
    "        break\n",
    "    quantity = float(input(\"Quantity (number of servings): \"))\n",
    "    meal_time = input(\"Meal Time (Breakfast/Lunch/Dinner/Snack): \")\n",
    "    food_entries.append((food_name, quantity, meal_time))\n"
   ]
  },
  {
   "cell_type": "code",
   "execution_count": 21,
   "id": "8121b20d-3c21-44a8-ae6f-13abe09ff28a",
   "metadata": {},
   "outputs": [
    {
     "name": "stdout",
     "output_type": "stream",
     "text": [
      "\n",
      "Enter Activity Entries:\n"
     ]
    },
    {
     "name": "stdin",
     "output_type": "stream",
     "text": [
      "Activity Name (or type 'done' to finish):  bicycling, BMX\n",
      "Duration in minutes:  60\n",
      "Activity Name (or type 'done' to finish):  done\n"
     ]
    }
   ],
   "source": [
    "# Activity Entries\n",
    "print(\"\\nEnter Activity Entries:\")\n",
    "activity_entries = []\n",
    "while True:\n",
    "    activity_name = input(\"Activity Name (or type 'done' to finish): \")\n",
    "    if activity_name.lower() == 'done':\n",
    "        break\n",
    "    duration_min = float(input(\"Duration in minutes: \"))\n",
    "    activity_entries.append((activity_name, duration_min))"
   ]
  },
  {
   "cell_type": "code",
   "execution_count": 41,
   "id": "26359543-beaa-4eaa-aaa9-e5c66444932f",
   "metadata": {},
   "outputs": [
    {
     "name": "stdout",
     "output_type": "stream",
     "text": [
      "\n",
      "📊 Daily Log\n"
     ]
    },
    {
     "data": {
      "text/html": [
       "<div>\n",
       "<style scoped>\n",
       "    .dataframe tbody tr th:only-of-type {\n",
       "        vertical-align: middle;\n",
       "    }\n",
       "\n",
       "    .dataframe tbody tr th {\n",
       "        vertical-align: top;\n",
       "    }\n",
       "\n",
       "    .dataframe thead th {\n",
       "        text-align: right;\n",
       "    }\n",
       "</style>\n",
       "<table border=\"1\" class=\"dataframe\">\n",
       "  <thead>\n",
       "    <tr style=\"text-align: right;\">\n",
       "      <th></th>\n",
       "      <th>User</th>\n",
       "      <th>Date</th>\n",
       "      <th>Food Item</th>\n",
       "      <th>Quantity</th>\n",
       "      <th>Meal Time</th>\n",
       "      <th>Calories In</th>\n",
       "      <th>Activity</th>\n",
       "      <th>Duration (min)</th>\n",
       "      <th>Calories Out</th>\n",
       "    </tr>\n",
       "  </thead>\n",
       "  <tbody>\n",
       "    <tr>\n",
       "      <th>0</th>\n",
       "      <td>Ritik</td>\n",
       "      <td>2025-04-25</td>\n",
       "      <td>Dutch Apple Pie</td>\n",
       "      <td>2.0</td>\n",
       "      <td>Snack</td>\n",
       "      <td>580.0</td>\n",
       "      <td></td>\n",
       "      <td></td>\n",
       "      <td></td>\n",
       "    </tr>\n",
       "  </tbody>\n",
       "</table>\n",
       "</div>"
      ],
      "text/plain": [
       "    User        Date        Food Item  Quantity Meal Time  Calories In  \\\n",
       "0  Ritik  2025-04-25  Dutch Apple Pie       2.0     Snack        580.0   \n",
       "\n",
       "  Activity Duration (min) Calories Out  \n",
       "0                                       "
      ]
     },
     "metadata": {},
     "output_type": "display_data"
    },
    {
     "name": "stdout",
     "output_type": "stream",
     "text": [
      "\n",
      "Total Calories In: 580.00\n",
      "Total Calories Out (Activities): 0.00\n",
      "Net Calories (In - BMR - Out): -1418.57\n"
     ]
    }
   ],
   "source": [
    "# Log the Day\n",
    "today = datetime.today().date()\n",
    "log_rows, cals_in, cals_out, net = log_day(today, food_entries, activity_entries)\n",
    "daily_log = pd.DataFrame(log_rows, columns=[\"User\", \"Date\", \"Food Item\", \"Quantity\", \"Meal Time\", \"Calories In\", \"Activity\", \"Duration (min)\", \"Calories Out\"])\n",
    "\n",
    "print(\"\\n📊 Daily Log\")\n",
    "display(daily_log)\n",
    "\n",
    "print(f\"\\nTotal Calories In: {cals_in:.2f}\")\n",
    "print(f\"Total Calories Out (Activities): {cals_out:.2f}\")\n",
    "print(f\"Net Calories (In - BMR - Out): {net:.2f}\")"
   ]
  },
  {
   "cell_type": "code",
   "execution_count": 43,
   "id": "33db8d2c-d41b-4775-9fa3-5eaf5f4ede03",
   "metadata": {},
   "outputs": [
    {
     "name": "stdout",
     "output_type": "stream",
     "text": [
      "Daily log saved to 'daily_logs.csv'.\n"
     ]
    }
   ],
   "source": [
    "# Save Daily Log\n",
    "log_file = \"daily_logs.csv\"\n",
    "if os.path.exists(log_file):\n",
    "    existing_log = pd.read_csv(log_file)\n",
    "    updated_log = pd.concat([existing_log, daily_log], ignore_index=True)\n",
    "    updated_log.to_csv(log_file, index=False)\n",
    "else:\n",
    "    daily_log.to_csv(log_file, index=False)\n",
    "print(\"Daily log saved to 'daily_logs.csv'.\")\n"
   ]
  },
  {
   "cell_type": "code",
   "execution_count": 45,
   "id": "ad6d6be2-4d46-439e-b913-0c5d8688d833",
   "metadata": {},
   "outputs": [
    {
     "data": {
      "image/png": "[encoded data removed]",
      "text/plain": [
       "<Figure size 640x480 with 1 Axes>"
      ]
     },
     "metadata": {},
     "output_type": "display_data"
    }
   ],
   "source": [
    "# 📈 8. Visualize Calories Summary\n",
    "\n",
    "summary_df = pd.DataFrame({\n",
    "    'Metric': ['Calories In', 'BMR', 'Calories Out', 'Net Calories'],\n",
    "    'Value': [cals_in, bmr, cals_out, net]\n",
    "})\n",
    "\n",
    "sns.barplot(data=summary_df, x='Metric', y='Value', palette='coolwarm')\n",
    "plt.title('Calorie Summary for the Day')\n",
    "plt.ylabel('Calories')\n",
    "plt.show()"
   ]
  }
 ],
 "metadata": {
  "kernelspec": {
   "display_name": "Python [conda env:base] *",
   "language": "python",
   "name": "conda-base-py"
  },
  "language_info": {
   "codemirror_mode": {
    "name": "ipython",
    "version": 3
   },
   "file_extension": ".py",
   "mimetype": "text/x-python",
   "name": "python",
   "nbconvert_exporter": "python",
   "pygments_lexer": "ipython3",
   "version": "3.11.7"
  }
 },
 "nbformat": 4,
 "nbformat_minor": 5
}
